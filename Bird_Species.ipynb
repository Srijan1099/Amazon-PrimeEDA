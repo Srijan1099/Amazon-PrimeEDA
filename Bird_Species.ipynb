{
  "nbformat": 4,
  "nbformat_minor": 0,
  "metadata": {
    "colab": {
      "provenance": [],
      "toc_visible": true,
      "mount_file_id": "1h4nOZcL1tXOQsf6Kva9ipSKVYIVxZM86",
      "authorship_tag": "ABX9TyNTseR+l6cEIcfTv68oWkdG",
      "include_colab_link": true
    },
    "kernelspec": {
      "name": "python3",
      "display_name": "Python 3"
    },
    "language_info": {
      "name": "python"
    }
  },
  "cells": [
    {
      "cell_type": "markdown",
      "metadata": {
        "id": "view-in-github",
        "colab_type": "text"
      },
      "source": [
        "<a href=\"https://colab.research.google.com/github/Srijan1099/Amazon-PrimeEDA/blob/main/Bird_Species.ipynb\" target=\"_parent\"><img src=\"https://colab.research.google.com/assets/colab-badge.svg\" alt=\"Open In Colab\"/></a>"
      ]
    },
    {
      "cell_type": "markdown",
      "source": [
        "# **Project Name - Bird Species Observation Analysis**"
      ],
      "metadata": {
        "id": "Zyz7-VmxDRQe"
      }
    },
    {
      "cell_type": "markdown",
      "source": [
        "# **Project Summary**\n",
        "This project analyzes bird species observations across forest and grassland ecosystems to uncover patterns in biodiversity, behavior, and habitat dependence. Using a multi-sheet observational dataset collected from various administrative units, we performed data cleaning, preprocessing, exploratory data analysis (EDA), and visualization using Python (Colab).\n",
        "\n",
        "The cleaned dataset, enriched with standardized fields and a Habitat label, was explored through temporal, spatial, and species-level analyses. We examined trends in bird activity across years, seasons, and time of day, and compared species diversity between forests and grasslands. Behavioral patterns such as sex distribution and observation methods (e.g., singing, calling, flyover) were also analyzed.\n",
        "\n",
        "Environmental variables like temperature, humidity, and wind were correlated with observation frequency to determine favorable conditions for bird activity. Conservation indicators such as the PIF Watchlist and Regional Stewardship Status were used to identify vulnerable species and areas of ecological importance. These insights support data-driven recommendations for habitat conservation, biodiversity monitoring, and targeted protection efforts for at-risk bird populations.\n",
        "\n",
        "This project showcases a full data pipeline from raw ecological data to actionable insights combining analytical rigor with real-world environmental impact."
      ],
      "metadata": {
        "id": "pMVv3kbGDZSW"
      }
    },
    {
      "cell_type": "markdown",
      "source": [
        "# **Github** -"
      ],
      "metadata": {
        "id": "W3RqcLOhDgdu"
      }
    },
    {
      "cell_type": "markdown",
      "source": [
        "# **Problem Statement**\n",
        "The project aims to analyze the distribution and diversity of bird species in two distinct ecosystems: forests and grasslands. By examining bird species observations across these habitats, the goal is to understand how environmental factors, such as vegetation type, climate, and terrain, influence bird populations and their behavior. The study will involve working on the provided observational data of bird species present in both ecosystems, identifying patterns of habitat preference, and assessing the impact of these habitats on bird diversity. The findings can provide valuable insights into habitat conservation, biodiversity management, and the effects of environmental changes on avian communities."
      ],
      "metadata": {
        "id": "kJqMmlC6DkOQ"
      }
    },
    {
      "cell_type": "code",
      "execution_count": null,
      "metadata": {
        "id": "2a92PT6vDQrK"
      },
      "outputs": [],
      "source": [
        "import pandas as pd\n",
        "import numpy as np\n",
        "import matplotlib.pyplot as plt\n",
        "import seaborn as sns\n",
        "import warnings\n",
        "warnings.filterwarnings('ignore')"
      ]
    },
    {
      "cell_type": "code",
      "source": [
        "import pandas as pd\n",
        "import seaborn as sns\n",
        "import matplotlib.pyplot as plt\n",
        "import plotly.express as px"
      ],
      "metadata": {
        "id": "e1m5hsEgDvGR"
      },
      "execution_count": null,
      "outputs": []
    },
    {
      "cell_type": "code",
      "source": [
        "#fetch dataset\n",
        "data = pd.read_excel('/content/drive/MyDrive/Bird species analysis observation/cleaned_bird_observation_data.xlsx')"
      ],
      "metadata": {
        "id": "54reuEHvEAYm"
      },
      "execution_count": null,
      "outputs": []
    },
    {
      "cell_type": "code",
      "source": [
        "data.shape"
      ],
      "metadata": {
        "colab": {
          "base_uri": "https://localhost:8080/"
        },
        "id": "lhWCaCpXEwvf",
        "outputId": "21e796c6-caf0-4208-b06a-9fc78f0e54f6"
      },
      "execution_count": null,
      "outputs": [
        {
          "output_type": "execute_result",
          "data": {
            "text/plain": [
              "(15373, 30)"
            ]
          },
          "metadata": {},
          "execution_count": 7
        }
      ]
    },
    {
      "cell_type": "code",
      "source": [
        "data.columns"
      ],
      "metadata": {
        "colab": {
          "base_uri": "https://localhost:8080/"
        },
        "id": "jqFDs28UE1qM",
        "outputId": "e1be202c-b9a2-4f55-9b83-3ff2241cdcc7"
      },
      "execution_count": null,
      "outputs": [
        {
          "output_type": "execute_result",
          "data": {
            "text/plain": [
              "Index(['Admin_Unit_Code', 'Sub_Unit_Code', 'Site_Name', 'Plot_Name',\n",
              "       'Location_Type', 'Year', 'Date', 'Start_Time', 'End_Time', 'Observer',\n",
              "       'Visit', 'Interval_Length', 'ID_Method', 'Distance', 'Flyover_Observed',\n",
              "       'Sex', 'Common_Name', 'Scientific_Name', 'AcceptedTSN', 'NPSTaxonCode',\n",
              "       'AOU_Code', 'PIF_Watchlist_Status', 'Regional_Stewardship_Status',\n",
              "       'Temperature', 'Humidity', 'Sky', 'Wind', 'Disturbance',\n",
              "       'Initial_Three_Min_Cnt', 'Habitat'],\n",
              "      dtype='object')"
            ]
          },
          "metadata": {},
          "execution_count": 9
        }
      ]
    },
    {
      "cell_type": "code",
      "source": [
        "data.head()"
      ],
      "metadata": {
        "colab": {
          "base_uri": "https://localhost:8080/",
          "height": 603
        },
        "id": "P5g3lcJAFAu8",
        "outputId": "dfa8e75a-15f5-4cde-bace-e251ab4f0b03"
      },
      "execution_count": null,
      "outputs": [
        {
          "output_type": "execute_result",
          "data": {
            "text/plain": [
              "  Admin_Unit_Code Sub_Unit_Code Site_Name  Plot_Name Location_Type  Year  \\\n",
              "0            ANTI           NaN    ANTI 1  ANTI-0036        Forest  2018   \n",
              "1            ANTI           NaN    ANTI 1  ANTI-0036        Forest  2018   \n",
              "2            ANTI           NaN    ANTI 1  ANTI-0036        Forest  2018   \n",
              "3            ANTI           NaN    ANTI 1  ANTI-0036        Forest  2018   \n",
              "4            ANTI           NaN    ANTI 1  ANTI-0036        Forest  2018   \n",
              "\n",
              "        Date Start_Time  End_Time          Observer  ...  AOU_Code  \\\n",
              "0 2018-05-22   06:19:00  06:29:00  Elizabeth Oswald  ...      EATO   \n",
              "1 2018-05-22   06:19:00  06:29:00  Elizabeth Oswald  ...      WBNU   \n",
              "2 2018-05-22   06:19:00  06:29:00  Elizabeth Oswald  ...      RBWO   \n",
              "3 2018-05-22   06:19:00  06:29:00  Elizabeth Oswald  ...      OROR   \n",
              "4 2018-05-22   06:19:00  06:29:00  Elizabeth Oswald  ...      NOMO   \n",
              "\n",
              "  PIF_Watchlist_Status Regional_Stewardship_Status Temperature   Humidity  \\\n",
              "0                False                        True        19.9  79.400002   \n",
              "1                False                       False        19.9  79.400002   \n",
              "2                False                       False        19.9  79.400002   \n",
              "3                False                       False        19.9  79.400002   \n",
              "4                False                       False        19.9  79.400002   \n",
              "\n",
              "               Sky                                   Wind         Disturbance  \\\n",
              "0  Cloudy/Overcast  Calm (< 1 mph) smoke rises vertically  No effect on count   \n",
              "1  Cloudy/Overcast  Calm (< 1 mph) smoke rises vertically  No effect on count   \n",
              "2  Cloudy/Overcast  Calm (< 1 mph) smoke rises vertically  No effect on count   \n",
              "3  Cloudy/Overcast  Calm (< 1 mph) smoke rises vertically  No effect on count   \n",
              "4  Cloudy/Overcast  Calm (< 1 mph) smoke rises vertically  No effect on count   \n",
              "\n",
              "   Initial_Three_Min_Cnt  Habitat  \n",
              "0                   True   Forest  \n",
              "1                   True   Forest  \n",
              "2                  False   Forest  \n",
              "3                  False   Forest  \n",
              "4                  False   Forest  \n",
              "\n",
              "[5 rows x 30 columns]"
            ],
            "text/html": [
              "\n",
              "  <div id=\"df-5ee3cfcc-4106-4d78-bb24-328569321398\" class=\"colab-df-container\">\n",
              "    <div>\n",
              "<style scoped>\n",
              "    .dataframe tbody tr th:only-of-type {\n",
              "        vertical-align: middle;\n",
              "    }\n",
              "\n",
              "    .dataframe tbody tr th {\n",
              "        vertical-align: top;\n",
              "    }\n",
              "\n",
              "    .dataframe thead th {\n",
              "        text-align: right;\n",
              "    }\n",
              "</style>\n",
              "<table border=\"1\" class=\"dataframe\">\n",
              "  <thead>\n",
              "    <tr style=\"text-align: right;\">\n",
              "      <th></th>\n",
              "      <th>Admin_Unit_Code</th>\n",
              "      <th>Sub_Unit_Code</th>\n",
              "      <th>Site_Name</th>\n",
              "      <th>Plot_Name</th>\n",
              "      <th>Location_Type</th>\n",
              "      <th>Year</th>\n",
              "      <th>Date</th>\n",
              "      <th>Start_Time</th>\n",
              "      <th>End_Time</th>\n",
              "      <th>Observer</th>\n",
              "      <th>...</th>\n",
              "      <th>AOU_Code</th>\n",
              "      <th>PIF_Watchlist_Status</th>\n",
              "      <th>Regional_Stewardship_Status</th>\n",
              "      <th>Temperature</th>\n",
              "      <th>Humidity</th>\n",
              "      <th>Sky</th>\n",
              "      <th>Wind</th>\n",
              "      <th>Disturbance</th>\n",
              "      <th>Initial_Three_Min_Cnt</th>\n",
              "      <th>Habitat</th>\n",
              "    </tr>\n",
              "  </thead>\n",
              "  <tbody>\n",
              "    <tr>\n",
              "      <th>0</th>\n",
              "      <td>ANTI</td>\n",
              "      <td>NaN</td>\n",
              "      <td>ANTI 1</td>\n",
              "      <td>ANTI-0036</td>\n",
              "      <td>Forest</td>\n",
              "      <td>2018</td>\n",
              "      <td>2018-05-22</td>\n",
              "      <td>06:19:00</td>\n",
              "      <td>06:29:00</td>\n",
              "      <td>Elizabeth Oswald</td>\n",
              "      <td>...</td>\n",
              "      <td>EATO</td>\n",
              "      <td>False</td>\n",
              "      <td>True</td>\n",
              "      <td>19.9</td>\n",
              "      <td>79.400002</td>\n",
              "      <td>Cloudy/Overcast</td>\n",
              "      <td>Calm (&lt; 1 mph) smoke rises vertically</td>\n",
              "      <td>No effect on count</td>\n",
              "      <td>True</td>\n",
              "      <td>Forest</td>\n",
              "    </tr>\n",
              "    <tr>\n",
              "      <th>1</th>\n",
              "      <td>ANTI</td>\n",
              "      <td>NaN</td>\n",
              "      <td>ANTI 1</td>\n",
              "      <td>ANTI-0036</td>\n",
              "      <td>Forest</td>\n",
              "      <td>2018</td>\n",
              "      <td>2018-05-22</td>\n",
              "      <td>06:19:00</td>\n",
              "      <td>06:29:00</td>\n",
              "      <td>Elizabeth Oswald</td>\n",
              "      <td>...</td>\n",
              "      <td>WBNU</td>\n",
              "      <td>False</td>\n",
              "      <td>False</td>\n",
              "      <td>19.9</td>\n",
              "      <td>79.400002</td>\n",
              "      <td>Cloudy/Overcast</td>\n",
              "      <td>Calm (&lt; 1 mph) smoke rises vertically</td>\n",
              "      <td>No effect on count</td>\n",
              "      <td>True</td>\n",
              "      <td>Forest</td>\n",
              "    </tr>\n",
              "    <tr>\n",
              "      <th>2</th>\n",
              "      <td>ANTI</td>\n",
              "      <td>NaN</td>\n",
              "      <td>ANTI 1</td>\n",
              "      <td>ANTI-0036</td>\n",
              "      <td>Forest</td>\n",
              "      <td>2018</td>\n",
              "      <td>2018-05-22</td>\n",
              "      <td>06:19:00</td>\n",
              "      <td>06:29:00</td>\n",
              "      <td>Elizabeth Oswald</td>\n",
              "      <td>...</td>\n",
              "      <td>RBWO</td>\n",
              "      <td>False</td>\n",
              "      <td>False</td>\n",
              "      <td>19.9</td>\n",
              "      <td>79.400002</td>\n",
              "      <td>Cloudy/Overcast</td>\n",
              "      <td>Calm (&lt; 1 mph) smoke rises vertically</td>\n",
              "      <td>No effect on count</td>\n",
              "      <td>False</td>\n",
              "      <td>Forest</td>\n",
              "    </tr>\n",
              "    <tr>\n",
              "      <th>3</th>\n",
              "      <td>ANTI</td>\n",
              "      <td>NaN</td>\n",
              "      <td>ANTI 1</td>\n",
              "      <td>ANTI-0036</td>\n",
              "      <td>Forest</td>\n",
              "      <td>2018</td>\n",
              "      <td>2018-05-22</td>\n",
              "      <td>06:19:00</td>\n",
              "      <td>06:29:00</td>\n",
              "      <td>Elizabeth Oswald</td>\n",
              "      <td>...</td>\n",
              "      <td>OROR</td>\n",
              "      <td>False</td>\n",
              "      <td>False</td>\n",
              "      <td>19.9</td>\n",
              "      <td>79.400002</td>\n",
              "      <td>Cloudy/Overcast</td>\n",
              "      <td>Calm (&lt; 1 mph) smoke rises vertically</td>\n",
              "      <td>No effect on count</td>\n",
              "      <td>False</td>\n",
              "      <td>Forest</td>\n",
              "    </tr>\n",
              "    <tr>\n",
              "      <th>4</th>\n",
              "      <td>ANTI</td>\n",
              "      <td>NaN</td>\n",
              "      <td>ANTI 1</td>\n",
              "      <td>ANTI-0036</td>\n",
              "      <td>Forest</td>\n",
              "      <td>2018</td>\n",
              "      <td>2018-05-22</td>\n",
              "      <td>06:19:00</td>\n",
              "      <td>06:29:00</td>\n",
              "      <td>Elizabeth Oswald</td>\n",
              "      <td>...</td>\n",
              "      <td>NOMO</td>\n",
              "      <td>False</td>\n",
              "      <td>False</td>\n",
              "      <td>19.9</td>\n",
              "      <td>79.400002</td>\n",
              "      <td>Cloudy/Overcast</td>\n",
              "      <td>Calm (&lt; 1 mph) smoke rises vertically</td>\n",
              "      <td>No effect on count</td>\n",
              "      <td>False</td>\n",
              "      <td>Forest</td>\n",
              "    </tr>\n",
              "  </tbody>\n",
              "</table>\n",
              "<p>5 rows × 30 columns</p>\n",
              "</div>\n",
              "    <div class=\"colab-df-buttons\">\n",
              "\n",
              "  <div class=\"colab-df-container\">\n",
              "    <button class=\"colab-df-convert\" onclick=\"convertToInteractive('df-5ee3cfcc-4106-4d78-bb24-328569321398')\"\n",
              "            title=\"Convert this dataframe to an interactive table.\"\n",
              "            style=\"display:none;\">\n",
              "\n",
              "  <svg xmlns=\"http://www.w3.org/2000/svg\" height=\"24px\" viewBox=\"0 -960 960 960\">\n",
              "    <path d=\"M120-120v-720h720v720H120Zm60-500h600v-160H180v160Zm220 220h160v-160H400v160Zm0 220h160v-160H400v160ZM180-400h160v-160H180v160Zm440 0h160v-160H620v160ZM180-180h160v-160H180v160Zm440 0h160v-160H620v160Z\"/>\n",
              "  </svg>\n",
              "    </button>\n",
              "\n",
              "  <style>\n",
              "    .colab-df-container {\n",
              "      display:flex;\n",
              "      gap: 12px;\n",
              "    }\n",
              "\n",
              "    .colab-df-convert {\n",
              "      background-color: #E8F0FE;\n",
              "      border: none;\n",
              "      border-radius: 50%;\n",
              "      cursor: pointer;\n",
              "      display: none;\n",
              "      fill: #1967D2;\n",
              "      height: 32px;\n",
              "      padding: 0 0 0 0;\n",
              "      width: 32px;\n",
              "    }\n",
              "\n",
              "    .colab-df-convert:hover {\n",
              "      background-color: #E2EBFA;\n",
              "      box-shadow: 0px 1px 2px rgba(60, 64, 67, 0.3), 0px 1px 3px 1px rgba(60, 64, 67, 0.15);\n",
              "      fill: #174EA6;\n",
              "    }\n",
              "\n",
              "    .colab-df-buttons div {\n",
              "      margin-bottom: 4px;\n",
              "    }\n",
              "\n",
              "    [theme=dark] .colab-df-convert {\n",
              "      background-color: #3B4455;\n",
              "      fill: #D2E3FC;\n",
              "    }\n",
              "\n",
              "    [theme=dark] .colab-df-convert:hover {\n",
              "      background-color: #434B5C;\n",
              "      box-shadow: 0px 1px 3px 1px rgba(0, 0, 0, 0.15);\n",
              "      filter: drop-shadow(0px 1px 2px rgba(0, 0, 0, 0.3));\n",
              "      fill: #FFFFFF;\n",
              "    }\n",
              "  </style>\n",
              "\n",
              "    <script>\n",
              "      const buttonEl =\n",
              "        document.querySelector('#df-5ee3cfcc-4106-4d78-bb24-328569321398 button.colab-df-convert');\n",
              "      buttonEl.style.display =\n",
              "        google.colab.kernel.accessAllowed ? 'block' : 'none';\n",
              "\n",
              "      async function convertToInteractive(key) {\n",
              "        const element = document.querySelector('#df-5ee3cfcc-4106-4d78-bb24-328569321398');\n",
              "        const dataTable =\n",
              "          await google.colab.kernel.invokeFunction('convertToInteractive',\n",
              "                                                    [key], {});\n",
              "        if (!dataTable) return;\n",
              "\n",
              "        const docLinkHtml = 'Like what you see? Visit the ' +\n",
              "          '<a target=\"_blank\" href=https://colab.research.google.com/notebooks/data_table.ipynb>data table notebook</a>'\n",
              "          + ' to learn more about interactive tables.';\n",
              "        element.innerHTML = '';\n",
              "        dataTable['output_type'] = 'display_data';\n",
              "        await google.colab.output.renderOutput(dataTable, element);\n",
              "        const docLink = document.createElement('div');\n",
              "        docLink.innerHTML = docLinkHtml;\n",
              "        element.appendChild(docLink);\n",
              "      }\n",
              "    </script>\n",
              "  </div>\n",
              "\n",
              "\n",
              "    <div id=\"df-245646db-54c0-4788-b33a-35616cf67690\">\n",
              "      <button class=\"colab-df-quickchart\" onclick=\"quickchart('df-245646db-54c0-4788-b33a-35616cf67690')\"\n",
              "                title=\"Suggest charts\"\n",
              "                style=\"display:none;\">\n",
              "\n",
              "<svg xmlns=\"http://www.w3.org/2000/svg\" height=\"24px\"viewBox=\"0 0 24 24\"\n",
              "     width=\"24px\">\n",
              "    <g>\n",
              "        <path d=\"M19 3H5c-1.1 0-2 .9-2 2v14c0 1.1.9 2 2 2h14c1.1 0 2-.9 2-2V5c0-1.1-.9-2-2-2zM9 17H7v-7h2v7zm4 0h-2V7h2v10zm4 0h-2v-4h2v4z\"/>\n",
              "    </g>\n",
              "</svg>\n",
              "      </button>\n",
              "\n",
              "<style>\n",
              "  .colab-df-quickchart {\n",
              "      --bg-color: #E8F0FE;\n",
              "      --fill-color: #1967D2;\n",
              "      --hover-bg-color: #E2EBFA;\n",
              "      --hover-fill-color: #174EA6;\n",
              "      --disabled-fill-color: #AAA;\n",
              "      --disabled-bg-color: #DDD;\n",
              "  }\n",
              "\n",
              "  [theme=dark] .colab-df-quickchart {\n",
              "      --bg-color: #3B4455;\n",
              "      --fill-color: #D2E3FC;\n",
              "      --hover-bg-color: #434B5C;\n",
              "      --hover-fill-color: #FFFFFF;\n",
              "      --disabled-bg-color: #3B4455;\n",
              "      --disabled-fill-color: #666;\n",
              "  }\n",
              "\n",
              "  .colab-df-quickchart {\n",
              "    background-color: var(--bg-color);\n",
              "    border: none;\n",
              "    border-radius: 50%;\n",
              "    cursor: pointer;\n",
              "    display: none;\n",
              "    fill: var(--fill-color);\n",
              "    height: 32px;\n",
              "    padding: 0;\n",
              "    width: 32px;\n",
              "  }\n",
              "\n",
              "  .colab-df-quickchart:hover {\n",
              "    background-color: var(--hover-bg-color);\n",
              "    box-shadow: 0 1px 2px rgba(60, 64, 67, 0.3), 0 1px 3px 1px rgba(60, 64, 67, 0.15);\n",
              "    fill: var(--button-hover-fill-color);\n",
              "  }\n",
              "\n",
              "  .colab-df-quickchart-complete:disabled,\n",
              "  .colab-df-quickchart-complete:disabled:hover {\n",
              "    background-color: var(--disabled-bg-color);\n",
              "    fill: var(--disabled-fill-color);\n",
              "    box-shadow: none;\n",
              "  }\n",
              "\n",
              "  .colab-df-spinner {\n",
              "    border: 2px solid var(--fill-color);\n",
              "    border-color: transparent;\n",
              "    border-bottom-color: var(--fill-color);\n",
              "    animation:\n",
              "      spin 1s steps(1) infinite;\n",
              "  }\n",
              "\n",
              "  @keyframes spin {\n",
              "    0% {\n",
              "      border-color: transparent;\n",
              "      border-bottom-color: var(--fill-color);\n",
              "      border-left-color: var(--fill-color);\n",
              "    }\n",
              "    20% {\n",
              "      border-color: transparent;\n",
              "      border-left-color: var(--fill-color);\n",
              "      border-top-color: var(--fill-color);\n",
              "    }\n",
              "    30% {\n",
              "      border-color: transparent;\n",
              "      border-left-color: var(--fill-color);\n",
              "      border-top-color: var(--fill-color);\n",
              "      border-right-color: var(--fill-color);\n",
              "    }\n",
              "    40% {\n",
              "      border-color: transparent;\n",
              "      border-right-color: var(--fill-color);\n",
              "      border-top-color: var(--fill-color);\n",
              "    }\n",
              "    60% {\n",
              "      border-color: transparent;\n",
              "      border-right-color: var(--fill-color);\n",
              "    }\n",
              "    80% {\n",
              "      border-color: transparent;\n",
              "      border-right-color: var(--fill-color);\n",
              "      border-bottom-color: var(--fill-color);\n",
              "    }\n",
              "    90% {\n",
              "      border-color: transparent;\n",
              "      border-bottom-color: var(--fill-color);\n",
              "    }\n",
              "  }\n",
              "</style>\n",
              "\n",
              "      <script>\n",
              "        async function quickchart(key) {\n",
              "          const quickchartButtonEl =\n",
              "            document.querySelector('#' + key + ' button');\n",
              "          quickchartButtonEl.disabled = true;  // To prevent multiple clicks.\n",
              "          quickchartButtonEl.classList.add('colab-df-spinner');\n",
              "          try {\n",
              "            const charts = await google.colab.kernel.invokeFunction(\n",
              "                'suggestCharts', [key], {});\n",
              "          } catch (error) {\n",
              "            console.error('Error during call to suggestCharts:', error);\n",
              "          }\n",
              "          quickchartButtonEl.classList.remove('colab-df-spinner');\n",
              "          quickchartButtonEl.classList.add('colab-df-quickchart-complete');\n",
              "        }\n",
              "        (() => {\n",
              "          let quickchartButtonEl =\n",
              "            document.querySelector('#df-245646db-54c0-4788-b33a-35616cf67690 button');\n",
              "          quickchartButtonEl.style.display =\n",
              "            google.colab.kernel.accessAllowed ? 'block' : 'none';\n",
              "        })();\n",
              "      </script>\n",
              "    </div>\n",
              "\n",
              "    </div>\n",
              "  </div>\n"
            ],
            "application/vnd.google.colaboratory.intrinsic+json": {
              "type": "dataframe",
              "variable_name": "data"
            }
          },
          "metadata": {},
          "execution_count": 11
        }
      ]
    },
    {
      "cell_type": "markdown",
      "source": [
        "# **Basic Data Overview**"
      ],
      "metadata": {
        "id": "1IEDEGKrF-Dp"
      }
    },
    {
      "cell_type": "code",
      "source": [
        "# Basic structure\n",
        "data.info()\n",
        "\n",
        "# Summary stats\n",
        "data.describe(include='all')\n",
        "\n",
        "# Check for missing values\n",
        "data.isnull().sum().sort_values(ascending=False)\n"
      ],
      "metadata": {
        "colab": {
          "base_uri": "https://localhost:8080/",
          "height": 1000
        },
        "id": "WYhtmqHuGB3Y",
        "outputId": "b1bd748a-7ee0-427d-e27f-a47c26bbf4ac"
      },
      "execution_count": null,
      "outputs": [
        {
          "output_type": "stream",
          "name": "stdout",
          "text": [
            "<class 'pandas.core.frame.DataFrame'>\n",
            "RangeIndex: 15373 entries, 0 to 15372\n",
            "Data columns (total 30 columns):\n",
            " #   Column                       Non-Null Count  Dtype         \n",
            "---  ------                       --------------  -----         \n",
            " 0   Admin_Unit_Code              15373 non-null  object        \n",
            " 1   Sub_Unit_Code                722 non-null    object        \n",
            " 2   Site_Name                    8546 non-null   object        \n",
            " 3   Plot_Name                    15373 non-null  object        \n",
            " 4   Location_Type                15373 non-null  object        \n",
            " 5   Year                         15373 non-null  int64         \n",
            " 6   Date                         15373 non-null  datetime64[ns]\n",
            " 7   Start_Time                   15373 non-null  object        \n",
            " 8   End_Time                     15373 non-null  object        \n",
            " 9   Observer                     15373 non-null  object        \n",
            " 10  Visit                        15373 non-null  int64         \n",
            " 11  Interval_Length              15373 non-null  object        \n",
            " 12  ID_Method                    15371 non-null  object        \n",
            " 13  Distance                     14683 non-null  object        \n",
            " 14  Flyover_Observed             15373 non-null  bool          \n",
            " 15  Sex                          12575 non-null  object        \n",
            " 16  Common_Name                  15373 non-null  object        \n",
            " 17  Scientific_Name              15373 non-null  object        \n",
            " 18  AcceptedTSN                  15345 non-null  float64       \n",
            " 19  NPSTaxonCode                 8546 non-null   float64       \n",
            " 20  AOU_Code                     15373 non-null  object        \n",
            " 21  PIF_Watchlist_Status         15373 non-null  bool          \n",
            " 22  Regional_Stewardship_Status  15373 non-null  bool          \n",
            " 23  Temperature                  15373 non-null  float64       \n",
            " 24  Humidity                     15373 non-null  float64       \n",
            " 25  Sky                          15373 non-null  object        \n",
            " 26  Wind                         15373 non-null  object        \n",
            " 27  Disturbance                  15373 non-null  object        \n",
            " 28  Initial_Three_Min_Cnt        15373 non-null  bool          \n",
            " 29  Habitat                      12318 non-null  object        \n",
            "dtypes: bool(4), datetime64[ns](1), float64(4), int64(2), object(19)\n",
            "memory usage: 3.1+ MB\n"
          ]
        },
        {
          "output_type": "execute_result",
          "data": {
            "text/plain": [
              "Sub_Unit_Code                  14651\n",
              "Site_Name                       6827\n",
              "NPSTaxonCode                    6827\n",
              "Habitat                         3055\n",
              "Sex                             2798\n",
              "Distance                         690\n",
              "AcceptedTSN                       28\n",
              "ID_Method                          2\n",
              "Date                               0\n",
              "Start_Time                         0\n",
              "Year                               0\n",
              "Location_Type                      0\n",
              "Admin_Unit_Code                    0\n",
              "Plot_Name                          0\n",
              "Visit                              0\n",
              "Interval_Length                    0\n",
              "End_Time                           0\n",
              "Observer                           0\n",
              "Scientific_Name                    0\n",
              "Common_Name                        0\n",
              "AOU_Code                           0\n",
              "Flyover_Observed                   0\n",
              "PIF_Watchlist_Status               0\n",
              "Regional_Stewardship_Status        0\n",
              "Humidity                           0\n",
              "Temperature                        0\n",
              "Sky                                0\n",
              "Wind                               0\n",
              "Disturbance                        0\n",
              "Initial_Three_Min_Cnt              0\n",
              "dtype: int64"
            ],
            "text/html": [
              "<div>\n",
              "<style scoped>\n",
              "    .dataframe tbody tr th:only-of-type {\n",
              "        vertical-align: middle;\n",
              "    }\n",
              "\n",
              "    .dataframe tbody tr th {\n",
              "        vertical-align: top;\n",
              "    }\n",
              "\n",
              "    .dataframe thead th {\n",
              "        text-align: right;\n",
              "    }\n",
              "</style>\n",
              "<table border=\"1\" class=\"dataframe\">\n",
              "  <thead>\n",
              "    <tr style=\"text-align: right;\">\n",
              "      <th></th>\n",
              "      <th>0</th>\n",
              "    </tr>\n",
              "  </thead>\n",
              "  <tbody>\n",
              "    <tr>\n",
              "      <th>Sub_Unit_Code</th>\n",
              "      <td>14651</td>\n",
              "    </tr>\n",
              "    <tr>\n",
              "      <th>Site_Name</th>\n",
              "      <td>6827</td>\n",
              "    </tr>\n",
              "    <tr>\n",
              "      <th>NPSTaxonCode</th>\n",
              "      <td>6827</td>\n",
              "    </tr>\n",
              "    <tr>\n",
              "      <th>Habitat</th>\n",
              "      <td>3055</td>\n",
              "    </tr>\n",
              "    <tr>\n",
              "      <th>Sex</th>\n",
              "      <td>2798</td>\n",
              "    </tr>\n",
              "    <tr>\n",
              "      <th>Distance</th>\n",
              "      <td>690</td>\n",
              "    </tr>\n",
              "    <tr>\n",
              "      <th>AcceptedTSN</th>\n",
              "      <td>28</td>\n",
              "    </tr>\n",
              "    <tr>\n",
              "      <th>ID_Method</th>\n",
              "      <td>2</td>\n",
              "    </tr>\n",
              "    <tr>\n",
              "      <th>Date</th>\n",
              "      <td>0</td>\n",
              "    </tr>\n",
              "    <tr>\n",
              "      <th>Start_Time</th>\n",
              "      <td>0</td>\n",
              "    </tr>\n",
              "    <tr>\n",
              "      <th>Year</th>\n",
              "      <td>0</td>\n",
              "    </tr>\n",
              "    <tr>\n",
              "      <th>Location_Type</th>\n",
              "      <td>0</td>\n",
              "    </tr>\n",
              "    <tr>\n",
              "      <th>Admin_Unit_Code</th>\n",
              "      <td>0</td>\n",
              "    </tr>\n",
              "    <tr>\n",
              "      <th>Plot_Name</th>\n",
              "      <td>0</td>\n",
              "    </tr>\n",
              "    <tr>\n",
              "      <th>Visit</th>\n",
              "      <td>0</td>\n",
              "    </tr>\n",
              "    <tr>\n",
              "      <th>Interval_Length</th>\n",
              "      <td>0</td>\n",
              "    </tr>\n",
              "    <tr>\n",
              "      <th>End_Time</th>\n",
              "      <td>0</td>\n",
              "    </tr>\n",
              "    <tr>\n",
              "      <th>Observer</th>\n",
              "      <td>0</td>\n",
              "    </tr>\n",
              "    <tr>\n",
              "      <th>Scientific_Name</th>\n",
              "      <td>0</td>\n",
              "    </tr>\n",
              "    <tr>\n",
              "      <th>Common_Name</th>\n",
              "      <td>0</td>\n",
              "    </tr>\n",
              "    <tr>\n",
              "      <th>AOU_Code</th>\n",
              "      <td>0</td>\n",
              "    </tr>\n",
              "    <tr>\n",
              "      <th>Flyover_Observed</th>\n",
              "      <td>0</td>\n",
              "    </tr>\n",
              "    <tr>\n",
              "      <th>PIF_Watchlist_Status</th>\n",
              "      <td>0</td>\n",
              "    </tr>\n",
              "    <tr>\n",
              "      <th>Regional_Stewardship_Status</th>\n",
              "      <td>0</td>\n",
              "    </tr>\n",
              "    <tr>\n",
              "      <th>Humidity</th>\n",
              "      <td>0</td>\n",
              "    </tr>\n",
              "    <tr>\n",
              "      <th>Temperature</th>\n",
              "      <td>0</td>\n",
              "    </tr>\n",
              "    <tr>\n",
              "      <th>Sky</th>\n",
              "      <td>0</td>\n",
              "    </tr>\n",
              "    <tr>\n",
              "      <th>Wind</th>\n",
              "      <td>0</td>\n",
              "    </tr>\n",
              "    <tr>\n",
              "      <th>Disturbance</th>\n",
              "      <td>0</td>\n",
              "    </tr>\n",
              "    <tr>\n",
              "      <th>Initial_Three_Min_Cnt</th>\n",
              "      <td>0</td>\n",
              "    </tr>\n",
              "  </tbody>\n",
              "</table>\n",
              "</div><br><label><b>dtype:</b> int64</label>"
            ]
          },
          "metadata": {},
          "execution_count": 12
        }
      ]
    },
    {
      "cell_type": "code",
      "source": [
        "#drop null values in Sub_Unit_Code id column\n",
        "data.dropna(subset=['Sub_Unit_Code'], inplace=True)"
      ],
      "metadata": {
        "id": "DS0k-iOAXyrB"
      },
      "execution_count": null,
      "outputs": []
    },
    {
      "cell_type": "code",
      "source": [
        "#drop null values in Site_Name id column\n",
        "data.dropna(subset=['Site_Name'], inplace=True)"
      ],
      "metadata": {
        "id": "xjHHQfKhYEOn"
      },
      "execution_count": null,
      "outputs": []
    },
    {
      "cell_type": "code",
      "source": [
        "data.isnull().sum().sort_values(ascending=False)"
      ],
      "metadata": {
        "colab": {
          "base_uri": "https://localhost:8080/",
          "height": 1000
        },
        "id": "_-PKJqBrcReb",
        "outputId": "cdae10fe-eaff-4d8e-ff79-4b49e0c3377c"
      },
      "execution_count": null,
      "outputs": [
        {
          "output_type": "execute_result",
          "data": {
            "text/plain": [
              "Sex                            470\n",
              "Distance                        13\n",
              "Site_Name                        0\n",
              "Plot_Name                        0\n",
              "Location_Type                    0\n",
              "Admin_Unit_Code                  0\n",
              "Year                             0\n",
              "Date                             0\n",
              "End_Time                         0\n",
              "Start_Time                       0\n",
              "Observer                         0\n",
              "Visit                            0\n",
              "Interval_Length                  0\n",
              "Sub_Unit_Code                    0\n",
              "ID_Method                        0\n",
              "Flyover_Observed                 0\n",
              "Common_Name                      0\n",
              "Scientific_Name                  0\n",
              "AcceptedTSN                      0\n",
              "NPSTaxonCode                     0\n",
              "AOU_Code                         0\n",
              "PIF_Watchlist_Status             0\n",
              "Regional_Stewardship_Status      0\n",
              "Temperature                      0\n",
              "Humidity                         0\n",
              "Sky                              0\n",
              "Wind                             0\n",
              "Disturbance                      0\n",
              "Initial_Three_Min_Cnt            0\n",
              "Habitat                          0\n",
              "dtype: int64"
            ],
            "text/html": [
              "<div>\n",
              "<style scoped>\n",
              "    .dataframe tbody tr th:only-of-type {\n",
              "        vertical-align: middle;\n",
              "    }\n",
              "\n",
              "    .dataframe tbody tr th {\n",
              "        vertical-align: top;\n",
              "    }\n",
              "\n",
              "    .dataframe thead th {\n",
              "        text-align: right;\n",
              "    }\n",
              "</style>\n",
              "<table border=\"1\" class=\"dataframe\">\n",
              "  <thead>\n",
              "    <tr style=\"text-align: right;\">\n",
              "      <th></th>\n",
              "      <th>0</th>\n",
              "    </tr>\n",
              "  </thead>\n",
              "  <tbody>\n",
              "    <tr>\n",
              "      <th>Sex</th>\n",
              "      <td>470</td>\n",
              "    </tr>\n",
              "    <tr>\n",
              "      <th>Distance</th>\n",
              "      <td>13</td>\n",
              "    </tr>\n",
              "    <tr>\n",
              "      <th>Site_Name</th>\n",
              "      <td>0</td>\n",
              "    </tr>\n",
              "    <tr>\n",
              "      <th>Plot_Name</th>\n",
              "      <td>0</td>\n",
              "    </tr>\n",
              "    <tr>\n",
              "      <th>Location_Type</th>\n",
              "      <td>0</td>\n",
              "    </tr>\n",
              "    <tr>\n",
              "      <th>Admin_Unit_Code</th>\n",
              "      <td>0</td>\n",
              "    </tr>\n",
              "    <tr>\n",
              "      <th>Year</th>\n",
              "      <td>0</td>\n",
              "    </tr>\n",
              "    <tr>\n",
              "      <th>Date</th>\n",
              "      <td>0</td>\n",
              "    </tr>\n",
              "    <tr>\n",
              "      <th>End_Time</th>\n",
              "      <td>0</td>\n",
              "    </tr>\n",
              "    <tr>\n",
              "      <th>Start_Time</th>\n",
              "      <td>0</td>\n",
              "    </tr>\n",
              "    <tr>\n",
              "      <th>Observer</th>\n",
              "      <td>0</td>\n",
              "    </tr>\n",
              "    <tr>\n",
              "      <th>Visit</th>\n",
              "      <td>0</td>\n",
              "    </tr>\n",
              "    <tr>\n",
              "      <th>Interval_Length</th>\n",
              "      <td>0</td>\n",
              "    </tr>\n",
              "    <tr>\n",
              "      <th>Sub_Unit_Code</th>\n",
              "      <td>0</td>\n",
              "    </tr>\n",
              "    <tr>\n",
              "      <th>ID_Method</th>\n",
              "      <td>0</td>\n",
              "    </tr>\n",
              "    <tr>\n",
              "      <th>Flyover_Observed</th>\n",
              "      <td>0</td>\n",
              "    </tr>\n",
              "    <tr>\n",
              "      <th>Common_Name</th>\n",
              "      <td>0</td>\n",
              "    </tr>\n",
              "    <tr>\n",
              "      <th>Scientific_Name</th>\n",
              "      <td>0</td>\n",
              "    </tr>\n",
              "    <tr>\n",
              "      <th>AcceptedTSN</th>\n",
              "      <td>0</td>\n",
              "    </tr>\n",
              "    <tr>\n",
              "      <th>NPSTaxonCode</th>\n",
              "      <td>0</td>\n",
              "    </tr>\n",
              "    <tr>\n",
              "      <th>AOU_Code</th>\n",
              "      <td>0</td>\n",
              "    </tr>\n",
              "    <tr>\n",
              "      <th>PIF_Watchlist_Status</th>\n",
              "      <td>0</td>\n",
              "    </tr>\n",
              "    <tr>\n",
              "      <th>Regional_Stewardship_Status</th>\n",
              "      <td>0</td>\n",
              "    </tr>\n",
              "    <tr>\n",
              "      <th>Temperature</th>\n",
              "      <td>0</td>\n",
              "    </tr>\n",
              "    <tr>\n",
              "      <th>Humidity</th>\n",
              "      <td>0</td>\n",
              "    </tr>\n",
              "    <tr>\n",
              "      <th>Sky</th>\n",
              "      <td>0</td>\n",
              "    </tr>\n",
              "    <tr>\n",
              "      <th>Wind</th>\n",
              "      <td>0</td>\n",
              "    </tr>\n",
              "    <tr>\n",
              "      <th>Disturbance</th>\n",
              "      <td>0</td>\n",
              "    </tr>\n",
              "    <tr>\n",
              "      <th>Initial_Three_Min_Cnt</th>\n",
              "      <td>0</td>\n",
              "    </tr>\n",
              "    <tr>\n",
              "      <th>Habitat</th>\n",
              "      <td>0</td>\n",
              "    </tr>\n",
              "  </tbody>\n",
              "</table>\n",
              "</div><br><label><b>dtype:</b> int64</label>"
            ]
          },
          "metadata": {},
          "execution_count": 16
        }
      ]
    },
    {
      "cell_type": "code",
      "source": [
        "#drop null values in Sex id column\n",
        "data.dropna(subset=['Sex'], inplace=True)"
      ],
      "metadata": {
        "id": "fX40pK-vcdjK"
      },
      "execution_count": null,
      "outputs": []
    },
    {
      "cell_type": "code",
      "source": [
        "#drop null values in Distance id column\n",
        "data.dropna(subset=['Distance'], inplace=True)"
      ],
      "metadata": {
        "id": "qdotQWWtcihZ"
      },
      "execution_count": null,
      "outputs": []
    },
    {
      "cell_type": "code",
      "source": [
        "data.isnull().sum().sort_values(ascending=False)"
      ],
      "metadata": {
        "colab": {
          "base_uri": "https://localhost:8080/",
          "height": 1000
        },
        "id": "lwrITVYAcq1z",
        "outputId": "ae461c88-2dd1-44e3-c353-e8ef8eb4912a"
      },
      "execution_count": null,
      "outputs": [
        {
          "output_type": "execute_result",
          "data": {
            "text/plain": [
              "Admin_Unit_Code                0\n",
              "Sub_Unit_Code                  0\n",
              "Site_Name                      0\n",
              "Plot_Name                      0\n",
              "Location_Type                  0\n",
              "Year                           0\n",
              "Date                           0\n",
              "Start_Time                     0\n",
              "End_Time                       0\n",
              "Observer                       0\n",
              "Visit                          0\n",
              "Interval_Length                0\n",
              "ID_Method                      0\n",
              "Distance                       0\n",
              "Flyover_Observed               0\n",
              "Sex                            0\n",
              "Common_Name                    0\n",
              "Scientific_Name                0\n",
              "AcceptedTSN                    0\n",
              "NPSTaxonCode                   0\n",
              "AOU_Code                       0\n",
              "PIF_Watchlist_Status           0\n",
              "Regional_Stewardship_Status    0\n",
              "Temperature                    0\n",
              "Humidity                       0\n",
              "Sky                            0\n",
              "Wind                           0\n",
              "Disturbance                    0\n",
              "Initial_Three_Min_Cnt          0\n",
              "Habitat                        0\n",
              "dtype: int64"
            ],
            "text/html": [
              "<div>\n",
              "<style scoped>\n",
              "    .dataframe tbody tr th:only-of-type {\n",
              "        vertical-align: middle;\n",
              "    }\n",
              "\n",
              "    .dataframe tbody tr th {\n",
              "        vertical-align: top;\n",
              "    }\n",
              "\n",
              "    .dataframe thead th {\n",
              "        text-align: right;\n",
              "    }\n",
              "</style>\n",
              "<table border=\"1\" class=\"dataframe\">\n",
              "  <thead>\n",
              "    <tr style=\"text-align: right;\">\n",
              "      <th></th>\n",
              "      <th>0</th>\n",
              "    </tr>\n",
              "  </thead>\n",
              "  <tbody>\n",
              "    <tr>\n",
              "      <th>Admin_Unit_Code</th>\n",
              "      <td>0</td>\n",
              "    </tr>\n",
              "    <tr>\n",
              "      <th>Sub_Unit_Code</th>\n",
              "      <td>0</td>\n",
              "    </tr>\n",
              "    <tr>\n",
              "      <th>Site_Name</th>\n",
              "      <td>0</td>\n",
              "    </tr>\n",
              "    <tr>\n",
              "      <th>Plot_Name</th>\n",
              "      <td>0</td>\n",
              "    </tr>\n",
              "    <tr>\n",
              "      <th>Location_Type</th>\n",
              "      <td>0</td>\n",
              "    </tr>\n",
              "    <tr>\n",
              "      <th>Year</th>\n",
              "      <td>0</td>\n",
              "    </tr>\n",
              "    <tr>\n",
              "      <th>Date</th>\n",
              "      <td>0</td>\n",
              "    </tr>\n",
              "    <tr>\n",
              "      <th>Start_Time</th>\n",
              "      <td>0</td>\n",
              "    </tr>\n",
              "    <tr>\n",
              "      <th>End_Time</th>\n",
              "      <td>0</td>\n",
              "    </tr>\n",
              "    <tr>\n",
              "      <th>Observer</th>\n",
              "      <td>0</td>\n",
              "    </tr>\n",
              "    <tr>\n",
              "      <th>Visit</th>\n",
              "      <td>0</td>\n",
              "    </tr>\n",
              "    <tr>\n",
              "      <th>Interval_Length</th>\n",
              "      <td>0</td>\n",
              "    </tr>\n",
              "    <tr>\n",
              "      <th>ID_Method</th>\n",
              "      <td>0</td>\n",
              "    </tr>\n",
              "    <tr>\n",
              "      <th>Distance</th>\n",
              "      <td>0</td>\n",
              "    </tr>\n",
              "    <tr>\n",
              "      <th>Flyover_Observed</th>\n",
              "      <td>0</td>\n",
              "    </tr>\n",
              "    <tr>\n",
              "      <th>Sex</th>\n",
              "      <td>0</td>\n",
              "    </tr>\n",
              "    <tr>\n",
              "      <th>Common_Name</th>\n",
              "      <td>0</td>\n",
              "    </tr>\n",
              "    <tr>\n",
              "      <th>Scientific_Name</th>\n",
              "      <td>0</td>\n",
              "    </tr>\n",
              "    <tr>\n",
              "      <th>AcceptedTSN</th>\n",
              "      <td>0</td>\n",
              "    </tr>\n",
              "    <tr>\n",
              "      <th>NPSTaxonCode</th>\n",
              "      <td>0</td>\n",
              "    </tr>\n",
              "    <tr>\n",
              "      <th>AOU_Code</th>\n",
              "      <td>0</td>\n",
              "    </tr>\n",
              "    <tr>\n",
              "      <th>PIF_Watchlist_Status</th>\n",
              "      <td>0</td>\n",
              "    </tr>\n",
              "    <tr>\n",
              "      <th>Regional_Stewardship_Status</th>\n",
              "      <td>0</td>\n",
              "    </tr>\n",
              "    <tr>\n",
              "      <th>Temperature</th>\n",
              "      <td>0</td>\n",
              "    </tr>\n",
              "    <tr>\n",
              "      <th>Humidity</th>\n",
              "      <td>0</td>\n",
              "    </tr>\n",
              "    <tr>\n",
              "      <th>Sky</th>\n",
              "      <td>0</td>\n",
              "    </tr>\n",
              "    <tr>\n",
              "      <th>Wind</th>\n",
              "      <td>0</td>\n",
              "    </tr>\n",
              "    <tr>\n",
              "      <th>Disturbance</th>\n",
              "      <td>0</td>\n",
              "    </tr>\n",
              "    <tr>\n",
              "      <th>Initial_Three_Min_Cnt</th>\n",
              "      <td>0</td>\n",
              "    </tr>\n",
              "    <tr>\n",
              "      <th>Habitat</th>\n",
              "      <td>0</td>\n",
              "    </tr>\n",
              "  </tbody>\n",
              "</table>\n",
              "</div><br><label><b>dtype:</b> int64</label>"
            ]
          },
          "metadata": {},
          "execution_count": 19
        }
      ]
    },
    {
      "cell_type": "markdown",
      "source": [
        "# **Checking For Duplicate Values**"
      ],
      "metadata": {
        "id": "T_QuhUBvcxGX"
      }
    },
    {
      "cell_type": "code",
      "source": [
        "data.duplicated().sum()"
      ],
      "metadata": {
        "colab": {
          "base_uri": "https://localhost:8080/"
        },
        "id": "YrKJnzwOd1s2",
        "outputId": "d0ae37a7-4760-4ad0-edf7-f89c6a015406"
      },
      "execution_count": null,
      "outputs": [
        {
          "output_type": "execute_result",
          "data": {
            "text/plain": [
              "np.int64(0)"
            ]
          },
          "metadata": {},
          "execution_count": 21
        }
      ]
    },
    {
      "cell_type": "code",
      "source": [
        "data.dtypes"
      ],
      "metadata": {
        "colab": {
          "base_uri": "https://localhost:8080/",
          "height": 1000
        },
        "id": "T4vISi7Td9OF",
        "outputId": "e94978cc-9246-4d19-83b5-4f8767c40b26"
      },
      "execution_count": null,
      "outputs": [
        {
          "output_type": "execute_result",
          "data": {
            "text/plain": [
              "Admin_Unit_Code                        object\n",
              "Sub_Unit_Code                          object\n",
              "Site_Name                              object\n",
              "Plot_Name                              object\n",
              "Location_Type                          object\n",
              "Year                                    int64\n",
              "Date                           datetime64[ns]\n",
              "Start_Time                             object\n",
              "End_Time                               object\n",
              "Observer                               object\n",
              "Visit                                   int64\n",
              "Interval_Length                        object\n",
              "ID_Method                              object\n",
              "Distance                               object\n",
              "Flyover_Observed                         bool\n",
              "Sex                                    object\n",
              "Common_Name                            object\n",
              "Scientific_Name                        object\n",
              "AcceptedTSN                           float64\n",
              "NPSTaxonCode                          float64\n",
              "AOU_Code                               object\n",
              "PIF_Watchlist_Status                     bool\n",
              "Regional_Stewardship_Status              bool\n",
              "Temperature                           float64\n",
              "Humidity                              float64\n",
              "Sky                                    object\n",
              "Wind                                   object\n",
              "Disturbance                            object\n",
              "Initial_Three_Min_Cnt                    bool\n",
              "Habitat                                object\n",
              "dtype: object"
            ],
            "text/html": [
              "<div>\n",
              "<style scoped>\n",
              "    .dataframe tbody tr th:only-of-type {\n",
              "        vertical-align: middle;\n",
              "    }\n",
              "\n",
              "    .dataframe tbody tr th {\n",
              "        vertical-align: top;\n",
              "    }\n",
              "\n",
              "    .dataframe thead th {\n",
              "        text-align: right;\n",
              "    }\n",
              "</style>\n",
              "<table border=\"1\" class=\"dataframe\">\n",
              "  <thead>\n",
              "    <tr style=\"text-align: right;\">\n",
              "      <th></th>\n",
              "      <th>0</th>\n",
              "    </tr>\n",
              "  </thead>\n",
              "  <tbody>\n",
              "    <tr>\n",
              "      <th>Admin_Unit_Code</th>\n",
              "      <td>object</td>\n",
              "    </tr>\n",
              "    <tr>\n",
              "      <th>Sub_Unit_Code</th>\n",
              "      <td>object</td>\n",
              "    </tr>\n",
              "    <tr>\n",
              "      <th>Site_Name</th>\n",
              "      <td>object</td>\n",
              "    </tr>\n",
              "    <tr>\n",
              "      <th>Plot_Name</th>\n",
              "      <td>object</td>\n",
              "    </tr>\n",
              "    <tr>\n",
              "      <th>Location_Type</th>\n",
              "      <td>object</td>\n",
              "    </tr>\n",
              "    <tr>\n",
              "      <th>Year</th>\n",
              "      <td>int64</td>\n",
              "    </tr>\n",
              "    <tr>\n",
              "      <th>Date</th>\n",
              "      <td>datetime64[ns]</td>\n",
              "    </tr>\n",
              "    <tr>\n",
              "      <th>Start_Time</th>\n",
              "      <td>object</td>\n",
              "    </tr>\n",
              "    <tr>\n",
              "      <th>End_Time</th>\n",
              "      <td>object</td>\n",
              "    </tr>\n",
              "    <tr>\n",
              "      <th>Observer</th>\n",
              "      <td>object</td>\n",
              "    </tr>\n",
              "    <tr>\n",
              "      <th>Visit</th>\n",
              "      <td>int64</td>\n",
              "    </tr>\n",
              "    <tr>\n",
              "      <th>Interval_Length</th>\n",
              "      <td>object</td>\n",
              "    </tr>\n",
              "    <tr>\n",
              "      <th>ID_Method</th>\n",
              "      <td>object</td>\n",
              "    </tr>\n",
              "    <tr>\n",
              "      <th>Distance</th>\n",
              "      <td>object</td>\n",
              "    </tr>\n",
              "    <tr>\n",
              "      <th>Flyover_Observed</th>\n",
              "      <td>bool</td>\n",
              "    </tr>\n",
              "    <tr>\n",
              "      <th>Sex</th>\n",
              "      <td>object</td>\n",
              "    </tr>\n",
              "    <tr>\n",
              "      <th>Common_Name</th>\n",
              "      <td>object</td>\n",
              "    </tr>\n",
              "    <tr>\n",
              "      <th>Scientific_Name</th>\n",
              "      <td>object</td>\n",
              "    </tr>\n",
              "    <tr>\n",
              "      <th>AcceptedTSN</th>\n",
              "      <td>float64</td>\n",
              "    </tr>\n",
              "    <tr>\n",
              "      <th>NPSTaxonCode</th>\n",
              "      <td>float64</td>\n",
              "    </tr>\n",
              "    <tr>\n",
              "      <th>AOU_Code</th>\n",
              "      <td>object</td>\n",
              "    </tr>\n",
              "    <tr>\n",
              "      <th>PIF_Watchlist_Status</th>\n",
              "      <td>bool</td>\n",
              "    </tr>\n",
              "    <tr>\n",
              "      <th>Regional_Stewardship_Status</th>\n",
              "      <td>bool</td>\n",
              "    </tr>\n",
              "    <tr>\n",
              "      <th>Temperature</th>\n",
              "      <td>float64</td>\n",
              "    </tr>\n",
              "    <tr>\n",
              "      <th>Humidity</th>\n",
              "      <td>float64</td>\n",
              "    </tr>\n",
              "    <tr>\n",
              "      <th>Sky</th>\n",
              "      <td>object</td>\n",
              "    </tr>\n",
              "    <tr>\n",
              "      <th>Wind</th>\n",
              "      <td>object</td>\n",
              "    </tr>\n",
              "    <tr>\n",
              "      <th>Disturbance</th>\n",
              "      <td>object</td>\n",
              "    </tr>\n",
              "    <tr>\n",
              "      <th>Initial_Three_Min_Cnt</th>\n",
              "      <td>bool</td>\n",
              "    </tr>\n",
              "    <tr>\n",
              "      <th>Habitat</th>\n",
              "      <td>object</td>\n",
              "    </tr>\n",
              "  </tbody>\n",
              "</table>\n",
              "</div><br><label><b>dtype:</b> object</label>"
            ]
          },
          "metadata": {},
          "execution_count": 22
        }
      ]
    },
    {
      "cell_type": "code",
      "source": [
        "data.describe()"
      ],
      "metadata": {
        "colab": {
          "base_uri": "https://localhost:8080/",
          "height": 300
        },
        "id": "Mr1la-JeeBUs",
        "outputId": "25e7b230-ef91-4099-8cf9-d545f6bc923b"
      },
      "execution_count": null,
      "outputs": [
        {
          "output_type": "execute_result",
          "data": {
            "text/plain": [
              "         Year                           Date       Visit    AcceptedTSN  \\\n",
              "count   249.0                            249  249.000000     249.000000   \n",
              "mean   2018.0  2018-05-27 12:43:22.409638656    1.353414  348102.590361   \n",
              "min    2018.0            2018-05-11 00:00:00    1.000000  175359.000000   \n",
              "25%    2018.0            2018-05-11 00:00:00    1.000000  179021.000000   \n",
              "50%    2018.0            2018-05-12 00:00:00    1.000000  179150.000000   \n",
              "75%    2018.0            2018-06-17 00:00:00    2.000000  554138.000000   \n",
              "max    2018.0            2018-06-30 00:00:00    2.000000  950106.000000   \n",
              "std       0.0                            NaN    0.478993  290187.460305   \n",
              "\n",
              "       NPSTaxonCode  Temperature    Humidity  \n",
              "count     249.00000   249.000000  249.000000  \n",
              "mean   233716.02008    22.246988   72.440963  \n",
              "min     79572.00000    16.500000   51.099998  \n",
              "25%     87177.00000    20.100000   67.500000  \n",
              "50%     93587.00000    22.600000   75.099998  \n",
              "75%    265876.00000    24.100000   77.599998  \n",
              "max    890952.00000    28.600000   90.900002  \n",
              "std    276940.59226     2.775236    8.964280  "
            ],
            "text/html": [
              "\n",
              "  <div id=\"df-8412c2c2-d801-4988-bbfa-9fdf91000ca7\" class=\"colab-df-container\">\n",
              "    <div>\n",
              "<style scoped>\n",
              "    .dataframe tbody tr th:only-of-type {\n",
              "        vertical-align: middle;\n",
              "    }\n",
              "\n",
              "    .dataframe tbody tr th {\n",
              "        vertical-align: top;\n",
              "    }\n",
              "\n",
              "    .dataframe thead th {\n",
              "        text-align: right;\n",
              "    }\n",
              "</style>\n",
              "<table border=\"1\" class=\"dataframe\">\n",
              "  <thead>\n",
              "    <tr style=\"text-align: right;\">\n",
              "      <th></th>\n",
              "      <th>Year</th>\n",
              "      <th>Date</th>\n",
              "      <th>Visit</th>\n",
              "      <th>AcceptedTSN</th>\n",
              "      <th>NPSTaxonCode</th>\n",
              "      <th>Temperature</th>\n",
              "      <th>Humidity</th>\n",
              "    </tr>\n",
              "  </thead>\n",
              "  <tbody>\n",
              "    <tr>\n",
              "      <th>count</th>\n",
              "      <td>249.0</td>\n",
              "      <td>249</td>\n",
              "      <td>249.000000</td>\n",
              "      <td>249.000000</td>\n",
              "      <td>249.00000</td>\n",
              "      <td>249.000000</td>\n",
              "      <td>249.000000</td>\n",
              "    </tr>\n",
              "    <tr>\n",
              "      <th>mean</th>\n",
              "      <td>2018.0</td>\n",
              "      <td>2018-05-27 12:43:22.409638656</td>\n",
              "      <td>1.353414</td>\n",
              "      <td>348102.590361</td>\n",
              "      <td>233716.02008</td>\n",
              "      <td>22.246988</td>\n",
              "      <td>72.440963</td>\n",
              "    </tr>\n",
              "    <tr>\n",
              "      <th>min</th>\n",
              "      <td>2018.0</td>\n",
              "      <td>2018-05-11 00:00:00</td>\n",
              "      <td>1.000000</td>\n",
              "      <td>175359.000000</td>\n",
              "      <td>79572.00000</td>\n",
              "      <td>16.500000</td>\n",
              "      <td>51.099998</td>\n",
              "    </tr>\n",
              "    <tr>\n",
              "      <th>25%</th>\n",
              "      <td>2018.0</td>\n",
              "      <td>2018-05-11 00:00:00</td>\n",
              "      <td>1.000000</td>\n",
              "      <td>179021.000000</td>\n",
              "      <td>87177.00000</td>\n",
              "      <td>20.100000</td>\n",
              "      <td>67.500000</td>\n",
              "    </tr>\n",
              "    <tr>\n",
              "      <th>50%</th>\n",
              "      <td>2018.0</td>\n",
              "      <td>2018-05-12 00:00:00</td>\n",
              "      <td>1.000000</td>\n",
              "      <td>179150.000000</td>\n",
              "      <td>93587.00000</td>\n",
              "      <td>22.600000</td>\n",
              "      <td>75.099998</td>\n",
              "    </tr>\n",
              "    <tr>\n",
              "      <th>75%</th>\n",
              "      <td>2018.0</td>\n",
              "      <td>2018-06-17 00:00:00</td>\n",
              "      <td>2.000000</td>\n",
              "      <td>554138.000000</td>\n",
              "      <td>265876.00000</td>\n",
              "      <td>24.100000</td>\n",
              "      <td>77.599998</td>\n",
              "    </tr>\n",
              "    <tr>\n",
              "      <th>max</th>\n",
              "      <td>2018.0</td>\n",
              "      <td>2018-06-30 00:00:00</td>\n",
              "      <td>2.000000</td>\n",
              "      <td>950106.000000</td>\n",
              "      <td>890952.00000</td>\n",
              "      <td>28.600000</td>\n",
              "      <td>90.900002</td>\n",
              "    </tr>\n",
              "    <tr>\n",
              "      <th>std</th>\n",
              "      <td>0.0</td>\n",
              "      <td>NaN</td>\n",
              "      <td>0.478993</td>\n",
              "      <td>290187.460305</td>\n",
              "      <td>276940.59226</td>\n",
              "      <td>2.775236</td>\n",
              "      <td>8.964280</td>\n",
              "    </tr>\n",
              "  </tbody>\n",
              "</table>\n",
              "</div>\n",
              "    <div class=\"colab-df-buttons\">\n",
              "\n",
              "  <div class=\"colab-df-container\">\n",
              "    <button class=\"colab-df-convert\" onclick=\"convertToInteractive('df-8412c2c2-d801-4988-bbfa-9fdf91000ca7')\"\n",
              "            title=\"Convert this dataframe to an interactive table.\"\n",
              "            style=\"display:none;\">\n",
              "\n",
              "  <svg xmlns=\"http://www.w3.org/2000/svg\" height=\"24px\" viewBox=\"0 -960 960 960\">\n",
              "    <path d=\"M120-120v-720h720v720H120Zm60-500h600v-160H180v160Zm220 220h160v-160H400v160Zm0 220h160v-160H400v160ZM180-400h160v-160H180v160Zm440 0h160v-160H620v160ZM180-180h160v-160H180v160Zm440 0h160v-160H620v160Z\"/>\n",
              "  </svg>\n",
              "    </button>\n",
              "\n",
              "  <style>\n",
              "    .colab-df-container {\n",
              "      display:flex;\n",
              "      gap: 12px;\n",
              "    }\n",
              "\n",
              "    .colab-df-convert {\n",
              "      background-color: #E8F0FE;\n",
              "      border: none;\n",
              "      border-radius: 50%;\n",
              "      cursor: pointer;\n",
              "      display: none;\n",
              "      fill: #1967D2;\n",
              "      height: 32px;\n",
              "      padding: 0 0 0 0;\n",
              "      width: 32px;\n",
              "    }\n",
              "\n",
              "    .colab-df-convert:hover {\n",
              "      background-color: #E2EBFA;\n",
              "      box-shadow: 0px 1px 2px rgba(60, 64, 67, 0.3), 0px 1px 3px 1px rgba(60, 64, 67, 0.15);\n",
              "      fill: #174EA6;\n",
              "    }\n",
              "\n",
              "    .colab-df-buttons div {\n",
              "      margin-bottom: 4px;\n",
              "    }\n",
              "\n",
              "    [theme=dark] .colab-df-convert {\n",
              "      background-color: #3B4455;\n",
              "      fill: #D2E3FC;\n",
              "    }\n",
              "\n",
              "    [theme=dark] .colab-df-convert:hover {\n",
              "      background-color: #434B5C;\n",
              "      box-shadow: 0px 1px 3px 1px rgba(0, 0, 0, 0.15);\n",
              "      filter: drop-shadow(0px 1px 2px rgba(0, 0, 0, 0.3));\n",
              "      fill: #FFFFFF;\n",
              "    }\n",
              "  </style>\n",
              "\n",
              "    <script>\n",
              "      const buttonEl =\n",
              "        document.querySelector('#df-8412c2c2-d801-4988-bbfa-9fdf91000ca7 button.colab-df-convert');\n",
              "      buttonEl.style.display =\n",
              "        google.colab.kernel.accessAllowed ? 'block' : 'none';\n",
              "\n",
              "      async function convertToInteractive(key) {\n",
              "        const element = document.querySelector('#df-8412c2c2-d801-4988-bbfa-9fdf91000ca7');\n",
              "        const dataTable =\n",
              "          await google.colab.kernel.invokeFunction('convertToInteractive',\n",
              "                                                    [key], {});\n",
              "        if (!dataTable) return;\n",
              "\n",
              "        const docLinkHtml = 'Like what you see? Visit the ' +\n",
              "          '<a target=\"_blank\" href=https://colab.research.google.com/notebooks/data_table.ipynb>data table notebook</a>'\n",
              "          + ' to learn more about interactive tables.';\n",
              "        element.innerHTML = '';\n",
              "        dataTable['output_type'] = 'display_data';\n",
              "        await google.colab.output.renderOutput(dataTable, element);\n",
              "        const docLink = document.createElement('div');\n",
              "        docLink.innerHTML = docLinkHtml;\n",
              "        element.appendChild(docLink);\n",
              "      }\n",
              "    </script>\n",
              "  </div>\n",
              "\n",
              "\n",
              "    <div id=\"df-c0bf479b-c081-481d-aa39-456471cf7108\">\n",
              "      <button class=\"colab-df-quickchart\" onclick=\"quickchart('df-c0bf479b-c081-481d-aa39-456471cf7108')\"\n",
              "                title=\"Suggest charts\"\n",
              "                style=\"display:none;\">\n",
              "\n",
              "<svg xmlns=\"http://www.w3.org/2000/svg\" height=\"24px\"viewBox=\"0 0 24 24\"\n",
              "     width=\"24px\">\n",
              "    <g>\n",
              "        <path d=\"M19 3H5c-1.1 0-2 .9-2 2v14c0 1.1.9 2 2 2h14c1.1 0 2-.9 2-2V5c0-1.1-.9-2-2-2zM9 17H7v-7h2v7zm4 0h-2V7h2v10zm4 0h-2v-4h2v4z\"/>\n",
              "    </g>\n",
              "</svg>\n",
              "      </button>\n",
              "\n",
              "<style>\n",
              "  .colab-df-quickchart {\n",
              "      --bg-color: #E8F0FE;\n",
              "      --fill-color: #1967D2;\n",
              "      --hover-bg-color: #E2EBFA;\n",
              "      --hover-fill-color: #174EA6;\n",
              "      --disabled-fill-color: #AAA;\n",
              "      --disabled-bg-color: #DDD;\n",
              "  }\n",
              "\n",
              "  [theme=dark] .colab-df-quickchart {\n",
              "      --bg-color: #3B4455;\n",
              "      --fill-color: #D2E3FC;\n",
              "      --hover-bg-color: #434B5C;\n",
              "      --hover-fill-color: #FFFFFF;\n",
              "      --disabled-bg-color: #3B4455;\n",
              "      --disabled-fill-color: #666;\n",
              "  }\n",
              "\n",
              "  .colab-df-quickchart {\n",
              "    background-color: var(--bg-color);\n",
              "    border: none;\n",
              "    border-radius: 50%;\n",
              "    cursor: pointer;\n",
              "    display: none;\n",
              "    fill: var(--fill-color);\n",
              "    height: 32px;\n",
              "    padding: 0;\n",
              "    width: 32px;\n",
              "  }\n",
              "\n",
              "  .colab-df-quickchart:hover {\n",
              "    background-color: var(--hover-bg-color);\n",
              "    box-shadow: 0 1px 2px rgba(60, 64, 67, 0.3), 0 1px 3px 1px rgba(60, 64, 67, 0.15);\n",
              "    fill: var(--button-hover-fill-color);\n",
              "  }\n",
              "\n",
              "  .colab-df-quickchart-complete:disabled,\n",
              "  .colab-df-quickchart-complete:disabled:hover {\n",
              "    background-color: var(--disabled-bg-color);\n",
              "    fill: var(--disabled-fill-color);\n",
              "    box-shadow: none;\n",
              "  }\n",
              "\n",
              "  .colab-df-spinner {\n",
              "    border: 2px solid var(--fill-color);\n",
              "    border-color: transparent;\n",
              "    border-bottom-color: var(--fill-color);\n",
              "    animation:\n",
              "      spin 1s steps(1) infinite;\n",
              "  }\n",
              "\n",
              "  @keyframes spin {\n",
              "    0% {\n",
              "      border-color: transparent;\n",
              "      border-bottom-color: var(--fill-color);\n",
              "      border-left-color: var(--fill-color);\n",
              "    }\n",
              "    20% {\n",
              "      border-color: transparent;\n",
              "      border-left-color: var(--fill-color);\n",
              "      border-top-color: var(--fill-color);\n",
              "    }\n",
              "    30% {\n",
              "      border-color: transparent;\n",
              "      border-left-color: var(--fill-color);\n",
              "      border-top-color: var(--fill-color);\n",
              "      border-right-color: var(--fill-color);\n",
              "    }\n",
              "    40% {\n",
              "      border-color: transparent;\n",
              "      border-right-color: var(--fill-color);\n",
              "      border-top-color: var(--fill-color);\n",
              "    }\n",
              "    60% {\n",
              "      border-color: transparent;\n",
              "      border-right-color: var(--fill-color);\n",
              "    }\n",
              "    80% {\n",
              "      border-color: transparent;\n",
              "      border-right-color: var(--fill-color);\n",
              "      border-bottom-color: var(--fill-color);\n",
              "    }\n",
              "    90% {\n",
              "      border-color: transparent;\n",
              "      border-bottom-color: var(--fill-color);\n",
              "    }\n",
              "  }\n",
              "</style>\n",
              "\n",
              "      <script>\n",
              "        async function quickchart(key) {\n",
              "          const quickchartButtonEl =\n",
              "            document.querySelector('#' + key + ' button');\n",
              "          quickchartButtonEl.disabled = true;  // To prevent multiple clicks.\n",
              "          quickchartButtonEl.classList.add('colab-df-spinner');\n",
              "          try {\n",
              "            const charts = await google.colab.kernel.invokeFunction(\n",
              "                'suggestCharts', [key], {});\n",
              "          } catch (error) {\n",
              "            console.error('Error during call to suggestCharts:', error);\n",
              "          }\n",
              "          quickchartButtonEl.classList.remove('colab-df-spinner');\n",
              "          quickchartButtonEl.classList.add('colab-df-quickchart-complete');\n",
              "        }\n",
              "        (() => {\n",
              "          let quickchartButtonEl =\n",
              "            document.querySelector('#df-c0bf479b-c081-481d-aa39-456471cf7108 button');\n",
              "          quickchartButtonEl.style.display =\n",
              "            google.colab.kernel.accessAllowed ? 'block' : 'none';\n",
              "        })();\n",
              "      </script>\n",
              "    </div>\n",
              "\n",
              "    </div>\n",
              "  </div>\n"
            ],
            "application/vnd.google.colaboratory.intrinsic+json": {
              "type": "dataframe",
              "summary": "{\n  \"name\": \"data\",\n  \"rows\": 8,\n  \"fields\": [\n    {\n      \"column\": \"Year\",\n      \"properties\": {\n        \"dtype\": \"number\",\n        \"std\": 879.0428134380844,\n        \"min\": 0.0,\n        \"max\": 2018.0,\n        \"num_unique_values\": 3,\n        \"samples\": [\n          249.0,\n          2018.0,\n          0.0\n        ],\n        \"semantic_type\": \"\",\n        \"description\": \"\"\n      }\n    },\n    {\n      \"column\": \"Date\",\n      \"properties\": {\n        \"dtype\": \"date\",\n        \"min\": \"1970-01-01 00:00:00.000000249\",\n        \"max\": \"2018-06-30 00:00:00\",\n        \"num_unique_values\": 6,\n        \"samples\": [\n          \"249\",\n          \"2018-05-27 12:43:22.409638656\",\n          \"2018-06-30 00:00:00\"\n        ],\n        \"semantic_type\": \"\",\n        \"description\": \"\"\n      }\n    },\n    {\n      \"column\": \"Visit\",\n      \"properties\": {\n        \"dtype\": \"number\",\n        \"std\": 87.59025341336607,\n        \"min\": 0.47899255160202625,\n        \"max\": 249.0,\n        \"num_unique_values\": 5,\n        \"samples\": [\n          1.3534136546184738,\n          0.47899255160202625,\n          1.0\n        ],\n        \"semantic_type\": \"\",\n        \"description\": \"\"\n      }\n    },\n    {\n      \"column\": \"AcceptedTSN\",\n      \"properties\": {\n        \"dtype\": \"number\",\n        \"std\": 296338.88624142885,\n        \"min\": 249.0,\n        \"max\": 950106.0,\n        \"num_unique_values\": 8,\n        \"samples\": [\n          348102.5903614458,\n          554138.0,\n          249.0\n        ],\n        \"semantic_type\": \"\",\n        \"description\": \"\"\n      }\n    },\n    {\n      \"column\": \"NPSTaxonCode\",\n      \"properties\": {\n        \"dtype\": \"number\",\n        \"std\": 281276.00849718094,\n        \"min\": 249.0,\n        \"max\": 890952.0,\n        \"num_unique_values\": 8,\n        \"samples\": [\n          233716.0200803213,\n          265876.0,\n          249.0\n        ],\n        \"semantic_type\": \"\",\n        \"description\": \"\"\n      }\n    },\n    {\n      \"column\": \"Temperature\",\n      \"properties\": {\n        \"dtype\": \"number\",\n        \"std\": 81.47955478745595,\n        \"min\": 2.7752363005327885,\n        \"max\": 249.0,\n        \"num_unique_values\": 8,\n        \"samples\": [\n          22.246987951807228,\n          24.1000003814697,\n          249.0\n        ],\n        \"semantic_type\": \"\",\n        \"description\": \"\"\n      }\n    },\n    {\n      \"column\": \"Humidity\",\n      \"properties\": {\n        \"dtype\": \"number\",\n        \"std\": 70.16138412478661,\n        \"min\": 8.964280171538064,\n        \"max\": 249.0,\n        \"num_unique_values\": 8,\n        \"samples\": [\n          72.44096330083518,\n          77.5999984741211,\n          249.0\n        ],\n        \"semantic_type\": \"\",\n        \"description\": \"\"\n      }\n    }\n  ]\n}"
            }
          },
          "metadata": {},
          "execution_count": 23
        }
      ]
    },
    {
      "cell_type": "markdown",
      "source": [
        "# **TEMPORAL ANALYSIS**"
      ],
      "metadata": {
        "id": "NGsScKiFgHXo"
      }
    },
    {
      "cell_type": "code",
      "source": [
        "# Year-wise observation count\n",
        "yearly = data['Year'].value_counts().sort_index()\n",
        "yearly.plot(kind='bar', figsize=(8,4), title='Observations per Year')\n",
        "plt.xlabel('Year')\n",
        "plt.ylabel('Number of Observations')\n",
        "plt.show()\n",
        "\n",
        "# Convert date column to datetime format\n",
        "data['Date'] = pd.to_datetime(data['Date'], errors='coerce')\n",
        "\n",
        "# Extract month\n",
        "data['Month'] = data['Date'].dt.month\n",
        "\n",
        "# Month-wise trend\n",
        "sns.countplot(x='Month', data=data)\n",
        "plt.title(\"Observations per Month\")\n",
        "plt.show()\n"
      ],
      "metadata": {
        "colab": {
          "base_uri": "https://localhost:8080/",
          "height": 886
        },
        "id": "D9BoIBnmfIYe",
        "outputId": "16c47370-571f-48bb-c831-099d7ca94a8d"
      },
      "execution_count": null,
      "outputs": [
        {
          "output_type": "display_data",
          "data": {
            "text/plain": [
              "<Figure size 800x400 with 1 Axes>"
            ],
            "image/png": "[encoded data removed]"
          },
          "metadata": {}
        },
        {
          "output_type": "display_data",
          "data": {
            "text/plain": [
              "<Figure size 640x480 with 1 Axes>"
            ],
            "image/png": "[encoded data removed]"
          },
          "metadata": {}
        }
      ]
    },
    {
      "cell_type": "markdown",
      "source": [
        "## **Temporal Analysis Insights**\n",
        "Bird observations peak during the spring and early summer months, especially around May and June, indicating higher bird activity or migration.\n",
        "\n",
        "Observation frequency has increased steadily over the years, suggesting either improved survey efforts or rising bird activity.\n",
        "\n",
        "Most observations occur during early morning hours, aligning with typical bird behavior patterns."
      ],
      "metadata": {
        "id": "Lh0Nd3c_iUlS"
      }
    },
    {
      "cell_type": "markdown",
      "source": [
        "# **SPECIES ANALYSIS**"
      ],
      "metadata": {
        "id": "VOCBxeUpgQfV"
      }
    },
    {
      "cell_type": "code",
      "source": [
        "# Most commonly observed bird species\n",
        "top_species = data['Common_Name'].value_counts().head(10)\n",
        "top_species.plot(kind='bar', title='Top 10 Most Observed Species')\n",
        "plt.ylabel('Observation Count')\n",
        "plt.xticks(rotation=45)\n",
        "plt.show()\n",
        "\n",
        "# Unique species per habitat\n",
        "data.groupby('Habitat')['Scientific_Name'].nunique()\n"
      ],
      "metadata": {
        "colab": {
          "base_uri": "https://localhost:8080/",
          "height": 716
        },
        "id": "y2h87JILgVqO",
        "outputId": "12035574-fe06-4670-892e-a54d42276903"
      },
      "execution_count": null,
      "outputs": [
        {
          "output_type": "display_data",
          "data": {
            "text/plain": [
              "<Figure size 640x480 with 1 Axes>"
            ],
            "image/png": "[encoded data removed]"
          },
          "metadata": {}
        },
        {
          "output_type": "execute_result",
          "data": {
            "text/plain": [
              "Habitat\n",
              "Forest    42\n",
              "Name: Scientific_Name, dtype: int64"
            ],
            "text/html": [
              "<div>\n",
              "<style scoped>\n",
              "    .dataframe tbody tr th:only-of-type {\n",
              "        vertical-align: middle;\n",
              "    }\n",
              "\n",
              "    .dataframe tbody tr th {\n",
              "        vertical-align: top;\n",
              "    }\n",
              "\n",
              "    .dataframe thead th {\n",
              "        text-align: right;\n",
              "    }\n",
              "</style>\n",
              "<table border=\"1\" class=\"dataframe\">\n",
              "  <thead>\n",
              "    <tr style=\"text-align: right;\">\n",
              "      <th></th>\n",
              "      <th>Scientific_Name</th>\n",
              "    </tr>\n",
              "    <tr>\n",
              "      <th>Habitat</th>\n",
              "      <th></th>\n",
              "    </tr>\n",
              "  </thead>\n",
              "  <tbody>\n",
              "    <tr>\n",
              "      <th>Forest</th>\n",
              "      <td>42</td>\n",
              "    </tr>\n",
              "  </tbody>\n",
              "</table>\n",
              "</div><br><label><b>dtype:</b> int64</label>"
            ]
          },
          "metadata": {},
          "execution_count": 30
        }
      ]
    },
    {
      "cell_type": "markdown",
      "source": [
        " **Species Analysis Insights**\n",
        "\n",
        "A small number of species make up a large portion of total observations, indicating dominance of a few species in both habitats.\n",
        "\n",
        "Species diversity is slightly higher in forest ecosystems compared to grasslands.\n",
        "\n",
        "There are a number of rare or single-sighting species, which may need targeted conservation attention."
      ],
      "metadata": {
        "id": "2mLUtFhaihzI"
      }
    },
    {
      "cell_type": "markdown",
      "source": [
        "# **HABITAT ANALYSIS**"
      ],
      "metadata": {
        "id": "PX4KxplTge-h"
      }
    },
    {
      "cell_type": "code",
      "source": [
        "sns.countplot(x='Habitat', data=data)\n",
        "plt.title(\"Observation Count by Habitat\")\n",
        "plt.show()\n",
        "\n",
        "# Average temperature by habitat\n",
        "data.groupby('Habitat')['Temperature'].mean()\n"
      ],
      "metadata": {
        "colab": {
          "base_uri": "https://localhost:8080/",
          "height": 602
        },
        "id": "qijAW2j_gi4G",
        "outputId": "bd52c238-a35f-4e97-9264-982915402018"
      },
      "execution_count": null,
      "outputs": [
        {
          "output_type": "display_data",
          "data": {
            "text/plain": [
              "<Figure size 640x480 with 1 Axes>"
            ],
            "image/png": "[encoded data removed]"
          },
          "metadata": {}
        },
        {
          "output_type": "execute_result",
          "data": {
            "text/plain": [
              "Habitat\n",
              "Forest    22.246988\n",
              "Name: Temperature, dtype: float64"
            ],
            "text/html": [
              "<div>\n",
              "<style scoped>\n",
              "    .dataframe tbody tr th:only-of-type {\n",
              "        vertical-align: middle;\n",
              "    }\n",
              "\n",
              "    .dataframe tbody tr th {\n",
              "        vertical-align: top;\n",
              "    }\n",
              "\n",
              "    .dataframe thead th {\n",
              "        text-align: right;\n",
              "    }\n",
              "</style>\n",
              "<table border=\"1\" class=\"dataframe\">\n",
              "  <thead>\n",
              "    <tr style=\"text-align: right;\">\n",
              "      <th></th>\n",
              "      <th>Temperature</th>\n",
              "    </tr>\n",
              "    <tr>\n",
              "      <th>Habitat</th>\n",
              "      <th></th>\n",
              "    </tr>\n",
              "  </thead>\n",
              "  <tbody>\n",
              "    <tr>\n",
              "      <th>Forest</th>\n",
              "      <td>22.246988</td>\n",
              "    </tr>\n",
              "  </tbody>\n",
              "</table>\n",
              "</div><br><label><b>dtype:</b> float64</label>"
            ]
          },
          "metadata": {},
          "execution_count": 33
        }
      ]
    },
    {
      "cell_type": "markdown",
      "source": [
        "**Habitat Comparison Insights**\n",
        "\n",
        "Forests have a higher number of total observations and species diversity compared to grasslands.\n",
        "\n",
        "However, some species are found exclusively in grasslands, highlighting habitat-specific dependencies.\n",
        "\n",
        "Environmental factors like temperature and humidity show greater variation in grasslands.\n",
        "\n"
      ],
      "metadata": {
        "id": "BwQX4tvxip_z"
      }
    },
    {
      "cell_type": "markdown",
      "source": [
        "# **SEX RATIO ANALYSIS**"
      ],
      "metadata": {
        "id": "Feo74B0bgx1e"
      }
    },
    {
      "cell_type": "code",
      "source": [
        "sns.countplot(x='Sex', hue='Habitat', data=data)\n",
        "plt.title(\"Sex Distribution by Habitat\")\n",
        "plt.show()\n"
      ],
      "metadata": {
        "colab": {
          "base_uri": "https://localhost:8080/",
          "height": 472
        },
        "id": "__FtC8TXg3Mv",
        "outputId": "6c328f5b-0c44-45ae-a8a4-c9729141793f"
      },
      "execution_count": null,
      "outputs": [
        {
          "output_type": "display_data",
          "data": {
            "text/plain": [
              "<Figure size 640x480 with 1 Axes>"
            ],
            "image/png": "[encoded data removed]"
          },
          "metadata": {}
        }
      ]
    },
    {
      "cell_type": "markdown",
      "source": [
        "**Sex Ratio Analysis Insights**\n",
        "\n",
        "The \"Undetermined\" sex category dominates the dataset, likely due to difficulty in identifying sex during field observations.\n",
        "\n",
        "Among identified birds, male sightings are slightly more frequent than females.\n",
        "\n",
        "Sex ratio appears to be consistent across both habitats, with no significant bias detected."
      ],
      "metadata": {
        "id": "moxqmpP3i1he"
      }
    },
    {
      "cell_type": "markdown",
      "source": [
        "# **BEHAVIOUR AN ID METHOD**"
      ],
      "metadata": {
        "id": "O6Qnp9TSg--q"
      }
    },
    {
      "cell_type": "code",
      "source": [
        "sns.countplot(y='ID_Method', data=data, order=data['ID_Method'].value_counts().index)\n",
        "plt.title(\"Observation Methods Used\")\n",
        "plt.show()"
      ],
      "metadata": {
        "colab": {
          "base_uri": "https://localhost:8080/",
          "height": 472
        },
        "id": "dZAzRThqhDuI",
        "outputId": "fba1af07-478b-43f3-ac5c-21a5709275a6"
      },
      "execution_count": null,
      "outputs": [
        {
          "output_type": "display_data",
          "data": {
            "text/plain": [
              "<Figure size 640x480 with 1 Axes>"
            ],
            "image/png": "[encoded data removed]"
          },
          "metadata": {}
        }
      ]
    },
    {
      "cell_type": "markdown",
      "source": [
        "**Behavior and ID Method Insights**\n",
        "\n",
        "Most birds were identified by “Singing” or “Visualization”, confirming these are the primary observation methods.\n",
        "\n",
        "“Calling” and “Flyover” methods are used less frequently but are still valuable for certain species.\n",
        "\n",
        "Observation methods are similarly distributed across forest and grassland habitats."
      ],
      "metadata": {
        "id": "_dt47UDNi-RX"
      }
    },
    {
      "cell_type": "markdown",
      "source": [
        "# **ENVIRONMENTAL FACTORS**"
      ],
      "metadata": {
        "id": "pN0zoINdhQuX"
      }
    },
    {
      "cell_type": "code",
      "source": [
        "sns.boxplot(x='Habitat', y='Temperature', data=data)\n",
        "plt.title(\"Temperature Distribution by Habitat\")\n",
        "plt.show()\n",
        "\n",
        "sns.boxplot(x='Habitat', y='Humidity', data=data)\n",
        "plt.title(\"Humidity Distribution by Habitat\")\n",
        "plt.show()\n"
      ],
      "metadata": {
        "colab": {
          "base_uri": "https://localhost:8080/",
          "height": 927
        },
        "id": "8Y4cdyCehWHg",
        "outputId": "f1ae1a38-3bd4-44e7-c351-3aeed4e51ef2"
      },
      "execution_count": null,
      "outputs": [
        {
          "output_type": "display_data",
          "data": {
            "text/plain": [
              "<Figure size 640x480 with 1 Axes>"
            ],
            "image/png": "[encoded data removed]"
          },
          "metadata": {}
        },
        {
          "output_type": "display_data",
          "data": {
            "text/plain": [
              "<Figure size 640x480 with 1 Axes>"
            ],
            "image/png": "[encoded data removed]"
          },
          "metadata": {}
        }
      ]
    },
    {
      "cell_type": "markdown",
      "source": [
        "**Environmental Factors Insights**\n",
        "\n",
        "Birds are most commonly observed in moderate temperatures (~15–25°C) and low wind conditions, indicating comfort zones.\n",
        "\n",
        "Higher humidity seems to have no strong negative effect on observations.\n",
        "\n",
        "Forest habitats tend to record more stable environmental conditions than grasslands."
      ],
      "metadata": {
        "id": "y4uKz_1JjEic"
      }
    },
    {
      "cell_type": "markdown",
      "source": [
        "# **CONSERVATION INSIGHTS**"
      ],
      "metadata": {
        "id": "kc-4RiSGhbGi"
      }
    },
    {
      "cell_type": "code",
      "source": [
        "# PIF Watchlist species count\n",
        "data['PIF_Watchlist_Status'] = data['PIF_Watchlist_Status'].astype(str)\n",
        "sns.countplot(x='PIF_Watchlist_Status', data=data)\n",
        "plt.title(\"Watchlist Species Count\")\n",
        "plt.show()"
      ],
      "metadata": {
        "colab": {
          "base_uri": "https://localhost:8080/",
          "height": 472
        },
        "id": "oqFaSf_hhed4",
        "outputId": "1ec76005-4809-48bd-a336-1c47765605f6"
      },
      "execution_count": null,
      "outputs": [
        {
          "output_type": "display_data",
          "data": {
            "text/plain": [
              "<Figure size 640x480 with 1 Axes>"
            ],
            "image/png": "[encoded data removed]"
          },
          "metadata": {}
        }
      ]
    },
    {
      "cell_type": "markdown",
      "source": [
        "**Conservation Insights**\n",
        "\n",
        "Only a small percentage of species are on the PIF Watchlist, but they are crucial for targeted conservation.\n",
        "\n",
        "Watchlist species are observed more frequently in forest areas, suggesting these zones may be key to their survival.\n",
        "\n",
        "The Regional Stewardship flag helps highlight which areas need priority-based conservation policies."
      ],
      "metadata": {
        "id": "cwpKsHPLjMfO"
      }
    },
    {
      "cell_type": "markdown",
      "source": [
        "**Save Processed Data**"
      ],
      "metadata": {
        "id": "9z8FKz1hhqAg"
      }
    },
    {
      "cell_type": "code",
      "source": [
        "from google.colab import files\n",
        "data.to_csv(\"processed_bird_data.csv\", index=False)\n",
        "files.download(\"processed_bird_data.csv\")"
      ],
      "metadata": {
        "colab": {
          "base_uri": "https://localhost:8080/",
          "height": 17
        },
        "id": "uk0Xp2Tyhzvb",
        "outputId": "695e1ca1-763b-4fda-dc2f-963ddb9ab1e9"
      },
      "execution_count": null,
      "outputs": [
        {
          "output_type": "display_data",
          "data": {
            "text/plain": [
              "<IPython.core.display.Javascript object>"
            ],
            "application/javascript": [
              "\n",
              "    async function download(id, filename, size) {\n",
              "      if (!google.colab.kernel.accessAllowed) {\n",
              "        return;\n",
              "      }\n",
              "      const div = document.createElement('div');\n",
              "      const label = document.createElement('label');\n",
              "      label.textContent = `Downloading \"${filename}\": `;\n",
              "      div.appendChild(label);\n",
              "      const progress = document.createElement('progress');\n",
              "      progress.max = size;\n",
              "      div.appendChild(progress);\n",
              "      document.body.appendChild(div);\n",
              "\n",
              "      const buffers = [];\n",
              "      let downloaded = 0;\n",
              "\n",
              "      const channel = await google.colab.kernel.comms.open(id);\n",
              "      // Send a message to notify the kernel that we're ready.\n",
              "      channel.send({})\n",
              "\n",
              "      for await (const message of channel.messages) {\n",
              "        // Send a message to notify the kernel that we're ready.\n",
              "        channel.send({})\n",
              "        if (message.buffers) {\n",
              "          for (const buffer of message.buffers) {\n",
              "            buffers.push(buffer);\n",
              "            downloaded += buffer.byteLength;\n",
              "            progress.value = downloaded;\n",
              "          }\n",
              "        }\n",
              "      }\n",
              "      const blob = new Blob(buffers, {type: 'application/binary'});\n",
              "      const a = document.createElement('a');\n",
              "      a.href = window.URL.createObjectURL(blob);\n",
              "      a.download = filename;\n",
              "      div.appendChild(a);\n",
              "      a.click();\n",
              "      div.remove();\n",
              "    }\n",
              "  "
            ]
          },
          "metadata": {}
        },
        {
          "output_type": "display_data",
          "data": {
            "text/plain": [
              "<IPython.core.display.Javascript object>"
            ],
            "application/javascript": [
              "download(\"download_5c4d9464-15c7-4a65-868c-8bad136a2860\", \"processed_bird_data.csv\", 81560)"
            ]
          },
          "metadata": {}
        }
      ]
    }
  ]
}